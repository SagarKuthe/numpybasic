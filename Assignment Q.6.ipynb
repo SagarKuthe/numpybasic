{
 "cells": [
  {
   "cell_type": "code",
   "execution_count": 1,
   "id": "ac8fc59c",
   "metadata": {},
   "outputs": [],
   "source": [
    "import numpy as np"
   ]
  },
  {
   "cell_type": "code",
   "execution_count": 2,
   "id": "843e6afd",
   "metadata": {},
   "outputs": [],
   "source": [
    "a=np.zeros(64)"
   ]
  },
  {
   "cell_type": "code",
   "execution_count": 3,
   "id": "2db40e5c",
   "metadata": {},
   "outputs": [
    {
     "data": {
      "text/plain": [
       "array([0., 0., 0., 0., 0., 0., 0., 0., 0., 0., 0., 0., 0., 0., 0., 0., 0.,\n",
       "       0., 0., 0., 0., 0., 0., 0., 0., 0., 0., 0., 0., 0., 0., 0., 0., 0.,\n",
       "       0., 0., 0., 0., 0., 0., 0., 0., 0., 0., 0., 0., 0., 0., 0., 0., 0.,\n",
       "       0., 0., 0., 0., 0., 0., 0., 0., 0., 0., 0., 0., 0.])"
      ]
     },
     "execution_count": 3,
     "metadata": {},
     "output_type": "execute_result"
    }
   ],
   "source": [
    "a"
   ]
  },
  {
   "cell_type": "code",
   "execution_count": 4,
   "id": "66c9b280",
   "metadata": {},
   "outputs": [],
   "source": [
    "b=list(a)"
   ]
  },
  {
   "cell_type": "code",
   "execution_count": 6,
   "id": "3864d22f",
   "metadata": {},
   "outputs": [],
   "source": [
    "i=1\n",
    "while(i<=len(b)):\n",
    "    b[i]=1\n",
    "    i=i+2\n",
    "    "
   ]
  },
  {
   "cell_type": "code",
   "execution_count": 8,
   "id": "0f064899",
   "metadata": {},
   "outputs": [],
   "source": [
    "z=np.array(b)"
   ]
  },
  {
   "cell_type": "code",
   "execution_count": 10,
   "id": "f69a78b7",
   "metadata": {},
   "outputs": [
    {
     "data": {
      "text/plain": [
       "array([[0., 1., 0., 1., 0., 1., 0., 1.],\n",
       "       [0., 1., 0., 1., 0., 1., 0., 1.],\n",
       "       [0., 1., 0., 1., 0., 1., 0., 1.],\n",
       "       [0., 1., 0., 1., 0., 1., 0., 1.],\n",
       "       [0., 1., 0., 1., 0., 1., 0., 1.],\n",
       "       [0., 1., 0., 1., 0., 1., 0., 1.],\n",
       "       [0., 1., 0., 1., 0., 1., 0., 1.],\n",
       "       [0., 1., 0., 1., 0., 1., 0., 1.]])"
      ]
     },
     "execution_count": 10,
     "metadata": {},
     "output_type": "execute_result"
    }
   ],
   "source": [
    "z.reshape(8,8)"
   ]
  },
  {
   "cell_type": "code",
   "execution_count": null,
   "id": "a2d278fe",
   "metadata": {},
   "outputs": [],
   "source": []
  }
 ],
 "metadata": {
  "kernelspec": {
   "display_name": "Python 3 (ipykernel)",
   "language": "python",
   "name": "python3"
  },
  "language_info": {
   "codemirror_mode": {
    "name": "ipython",
    "version": 3
   },
   "file_extension": ".py",
   "mimetype": "text/x-python",
   "name": "python",
   "nbconvert_exporter": "python",
   "pygments_lexer": "ipython3",
   "version": "3.11.1"
  }
 },
 "nbformat": 4,
 "nbformat_minor": 5
}
