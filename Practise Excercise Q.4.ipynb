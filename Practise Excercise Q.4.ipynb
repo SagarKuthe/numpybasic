{
 "cells": [
  {
   "cell_type": "code",
   "execution_count": 1,
   "id": "49b72574",
   "metadata": {},
   "outputs": [],
   "source": [
    "import numpy as np\n"
   ]
  },
  {
   "cell_type": "code",
   "execution_count": 3,
   "id": "2c2852a0",
   "metadata": {},
   "outputs": [],
   "source": [
    "a = np.array([[3 ,6, 9, 12], [15 ,18, 21, 24],\n",
    "[27 ,30, 33, 36], [39 ,42, 45, 48], [51 ,54, 57, 60]])"
   ]
  },
  {
   "cell_type": "code",
   "execution_count": 5,
   "id": "62c572c5",
   "metadata": {},
   "outputs": [],
   "source": [
    "b=np.array([[a[1][0],a[1][2]],[a[3][0],a[3][2]]])"
   ]
  },
  {
   "cell_type": "code",
   "execution_count": 6,
   "id": "10b18d96",
   "metadata": {},
   "outputs": [
    {
     "data": {
      "text/plain": [
       "array([[15, 21],\n",
       "       [39, 45]])"
      ]
     },
     "execution_count": 6,
     "metadata": {},
     "output_type": "execute_result"
    }
   ],
   "source": [
    "b"
   ]
  },
  {
   "cell_type": "code",
   "execution_count": null,
   "id": "da3e69aa",
   "metadata": {},
   "outputs": [],
   "source": []
  }
 ],
 "metadata": {
  "kernelspec": {
   "display_name": "Python 3 (ipykernel)",
   "language": "python",
   "name": "python3"
  },
  "language_info": {
   "codemirror_mode": {
    "name": "ipython",
    "version": 3
   },
   "file_extension": ".py",
   "mimetype": "text/x-python",
   "name": "python",
   "nbconvert_exporter": "python",
   "pygments_lexer": "ipython3",
   "version": "3.11.1"
  }
 },
 "nbformat": 4,
 "nbformat_minor": 5
}
