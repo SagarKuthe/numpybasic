{
 "cells": [
  {
   "cell_type": "code",
   "execution_count": 1,
   "id": "b9fe3ad2",
   "metadata": {},
   "outputs": [],
   "source": [
    "import numpy as np"
   ]
  },
  {
   "cell_type": "code",
   "execution_count": 7,
   "id": "e18b5d33",
   "metadata": {},
   "outputs": [],
   "source": [
    "a=np.random.random((3,3,3))"
   ]
  },
  {
   "cell_type": "code",
   "execution_count": 8,
   "id": "a2c2fae5",
   "metadata": {},
   "outputs": [
    {
     "data": {
      "text/plain": [
       "array([[[0.30452126, 0.95296843, 0.03292538],\n",
       "        [0.80461582, 0.7366193 , 0.6613232 ],\n",
       "        [0.92232979, 0.43464316, 0.43691616]],\n",
       "\n",
       "       [[0.40097738, 0.51529646, 0.22079443],\n",
       "        [0.88817032, 0.5190261 , 0.63372028],\n",
       "        [0.63221327, 0.64314073, 0.51319373]],\n",
       "\n",
       "       [[0.06164692, 0.92572734, 0.01729778],\n",
       "        [0.34388829, 0.18954949, 0.27379374],\n",
       "        [0.92286633, 0.13173454, 0.19675516]]])"
      ]
     },
     "execution_count": 8,
     "metadata": {},
     "output_type": "execute_result"
    }
   ],
   "source": [
    "a"
   ]
  },
  {
   "cell_type": "code",
   "execution_count": null,
   "id": "72995332",
   "metadata": {},
   "outputs": [],
   "source": []
  }
 ],
 "metadata": {
  "kernelspec": {
   "display_name": "Python 3 (ipykernel)",
   "language": "python",
   "name": "python3"
  },
  "language_info": {
   "codemirror_mode": {
    "name": "ipython",
    "version": 3
   },
   "file_extension": ".py",
   "mimetype": "text/x-python",
   "name": "python",
   "nbconvert_exporter": "python",
   "pygments_lexer": "ipython3",
   "version": "3.11.1"
  }
 },
 "nbformat": 4,
 "nbformat_minor": 5
}
