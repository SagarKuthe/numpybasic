{
 "cells": [
  {
   "cell_type": "code",
   "execution_count": 1,
   "id": "6d9fe525",
   "metadata": {},
   "outputs": [],
   "source": [
    "import numpy as np"
   ]
  },
  {
   "cell_type": "code",
   "execution_count": 2,
   "id": "981f0dd7",
   "metadata": {},
   "outputs": [],
   "source": [
    "b=np.linspace(10,49)"
   ]
  },
  {
   "cell_type": "code",
   "execution_count": 3,
   "id": "e2cde889",
   "metadata": {},
   "outputs": [
    {
     "data": {
      "text/plain": [
       "array([10.        , 10.79591837, 11.59183673, 12.3877551 , 13.18367347,\n",
       "       13.97959184, 14.7755102 , 15.57142857, 16.36734694, 17.16326531,\n",
       "       17.95918367, 18.75510204, 19.55102041, 20.34693878, 21.14285714,\n",
       "       21.93877551, 22.73469388, 23.53061224, 24.32653061, 25.12244898,\n",
       "       25.91836735, 26.71428571, 27.51020408, 28.30612245, 29.10204082,\n",
       "       29.89795918, 30.69387755, 31.48979592, 32.28571429, 33.08163265,\n",
       "       33.87755102, 34.67346939, 35.46938776, 36.26530612, 37.06122449,\n",
       "       37.85714286, 38.65306122, 39.44897959, 40.24489796, 41.04081633,\n",
       "       41.83673469, 42.63265306, 43.42857143, 44.2244898 , 45.02040816,\n",
       "       45.81632653, 46.6122449 , 47.40816327, 48.20408163, 49.        ])"
      ]
     },
     "execution_count": 3,
     "metadata": {},
     "output_type": "execute_result"
    }
   ],
   "source": [
    "b"
   ]
  },
  {
   "cell_type": "code",
   "execution_count": null,
   "id": "368df4c9",
   "metadata": {},
   "outputs": [],
   "source": []
  }
 ],
 "metadata": {
  "kernelspec": {
   "display_name": "Python 3 (ipykernel)",
   "language": "python",
   "name": "python3"
  },
  "language_info": {
   "codemirror_mode": {
    "name": "ipython",
    "version": 3
   },
   "file_extension": ".py",
   "mimetype": "text/x-python",
   "name": "python",
   "nbconvert_exporter": "python",
   "pygments_lexer": "ipython3",
   "version": "3.11.1"
  }
 },
 "nbformat": 4,
 "nbformat_minor": 5
}
