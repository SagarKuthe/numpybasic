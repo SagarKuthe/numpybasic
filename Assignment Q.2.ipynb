{
 "cells": [
  {
   "cell_type": "code",
   "execution_count": 1,
   "id": "0a69ee13",
   "metadata": {},
   "outputs": [],
   "source": [
    "import numpy as np"
   ]
  },
  {
   "cell_type": "code",
   "execution_count": 8,
   "id": "c4a475f8",
   "metadata": {},
   "outputs": [],
   "source": [
    "z=np.linspace(7,15,16)"
   ]
  },
  {
   "cell_type": "code",
   "execution_count": 9,
   "id": "2a2595a5",
   "metadata": {},
   "outputs": [
    {
     "data": {
      "text/plain": [
       "array([ 7.        ,  7.53333333,  8.06666667,  8.6       ,  9.13333333,\n",
       "        9.66666667, 10.2       , 10.73333333, 11.26666667, 11.8       ,\n",
       "       12.33333333, 12.86666667, 13.4       , 13.93333333, 14.46666667,\n",
       "       15.        ])"
      ]
     },
     "execution_count": 9,
     "metadata": {},
     "output_type": "execute_result"
    }
   ],
   "source": [
    "z"
   ]
  },
  {
   "cell_type": "code",
   "execution_count": 10,
   "id": "2bcf73f0",
   "metadata": {},
   "outputs": [
    {
     "data": {
      "text/plain": [
       "array([[ 7.        ,  7.53333333,  8.06666667,  8.6       ],\n",
       "       [ 9.13333333,  9.66666667, 10.2       , 10.73333333],\n",
       "       [11.26666667, 11.8       , 12.33333333, 12.86666667],\n",
       "       [13.4       , 13.93333333, 14.46666667, 15.        ]])"
      ]
     },
     "execution_count": 10,
     "metadata": {},
     "output_type": "execute_result"
    }
   ],
   "source": [
    "z.reshape((4,4))"
   ]
  },
  {
   "cell_type": "code",
   "execution_count": null,
   "id": "0627a416",
   "metadata": {},
   "outputs": [],
   "source": []
  },
  {
   "cell_type": "code",
   "execution_count": null,
   "id": "903fc7fd",
   "metadata": {},
   "outputs": [],
   "source": []
  },
  {
   "cell_type": "code",
   "execution_count": null,
   "id": "ef8ad906",
   "metadata": {},
   "outputs": [],
   "source": []
  }
 ],
 "metadata": {
  "kernelspec": {
   "display_name": "Python 3 (ipykernel)",
   "language": "python",
   "name": "python3"
  },
  "language_info": {
   "codemirror_mode": {
    "name": "ipython",
    "version": 3
   },
   "file_extension": ".py",
   "mimetype": "text/x-python",
   "name": "python",
   "nbconvert_exporter": "python",
   "pygments_lexer": "ipython3",
   "version": "3.11.1"
  }
 },
 "nbformat": 4,
 "nbformat_minor": 5
}
