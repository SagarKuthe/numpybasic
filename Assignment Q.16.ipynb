{
 "cells": [
  {
   "cell_type": "code",
   "execution_count": 1,
   "id": "c70224a7",
   "metadata": {},
   "outputs": [],
   "source": [
    "import numpy as np"
   ]
  },
  {
   "cell_type": "code",
   "execution_count": 31,
   "id": "06e80888",
   "metadata": {},
   "outputs": [],
   "source": [
    "a=np.linspace(np.log(2.),np.log(5.),20)"
   ]
  },
  {
   "cell_type": "code",
   "execution_count": 32,
   "id": "8240c14d",
   "metadata": {},
   "outputs": [
    {
     "data": {
      "text/plain": [
       "array([0.69314718, 0.74137301, 0.78959884, 0.83782466, 0.88605049,\n",
       "       0.93427632, 0.98250215, 1.03072798, 1.0789538 , 1.12717963,\n",
       "       1.17540546, 1.22363129, 1.27185712, 1.32008294, 1.36830877,\n",
       "       1.4165346 , 1.46476043, 1.51298626, 1.56121208, 1.60943791])"
      ]
     },
     "execution_count": 32,
     "metadata": {},
     "output_type": "execute_result"
    }
   ],
   "source": [
    "a"
   ]
  },
  {
   "cell_type": "code",
   "execution_count": null,
   "id": "ffb48e9b",
   "metadata": {},
   "outputs": [],
   "source": []
  },
  {
   "cell_type": "code",
   "execution_count": null,
   "id": "1aebcf5c",
   "metadata": {},
   "outputs": [],
   "source": []
  }
 ],
 "metadata": {
  "kernelspec": {
   "display_name": "Python 3 (ipykernel)",
   "language": "python",
   "name": "python3"
  },
  "language_info": {
   "codemirror_mode": {
    "name": "ipython",
    "version": 3
   },
   "file_extension": ".py",
   "mimetype": "text/x-python",
   "name": "python",
   "nbconvert_exporter": "python",
   "pygments_lexer": "ipython3",
   "version": "3.11.1"
  }
 },
 "nbformat": 4,
 "nbformat_minor": 5
}
