{
 "cells": [
  {
   "cell_type": "code",
   "execution_count": 1,
   "id": "300c9b18",
   "metadata": {},
   "outputs": [],
   "source": [
    "import numpy as np"
   ]
  },
  {
   "cell_type": "code",
   "execution_count": 2,
   "id": "5a15a1a0",
   "metadata": {},
   "outputs": [],
   "source": [
    "a=np.arange(55,68)"
   ]
  },
  {
   "cell_type": "code",
   "execution_count": 3,
   "id": "d610d30e",
   "metadata": {},
   "outputs": [
    {
     "data": {
      "text/plain": [
       "array([55, 56, 57, 58, 59, 60, 61, 62, 63, 64, 65, 66, 67])"
      ]
     },
     "execution_count": 3,
     "metadata": {},
     "output_type": "execute_result"
    }
   ],
   "source": [
    "a"
   ]
  },
  {
   "cell_type": "code",
   "execution_count": 4,
   "id": "4c606231",
   "metadata": {},
   "outputs": [],
   "source": [
    "b=list(a)"
   ]
  },
  {
   "cell_type": "code",
   "execution_count": 5,
   "id": "513dff42",
   "metadata": {},
   "outputs": [
    {
     "data": {
      "text/plain": [
       "[55, 56, 57, 58, 59, 60, 61, 62, 63, 64, 65, 66, 67]"
      ]
     },
     "execution_count": 5,
     "metadata": {},
     "output_type": "execute_result"
    }
   ],
   "source": [
    "b"
   ]
  },
  {
   "cell_type": "code",
   "execution_count": 7,
   "id": "70c550a7",
   "metadata": {},
   "outputs": [
    {
     "name": "stdout",
     "output_type": "stream",
     "text": [
      "[89.6, 92.84, 96.08000000000001, 99.32, 102.56, 105.8, 109.03999999999999, 112.28, 115.52, 118.76, 122.0, 125.24, 128.48000000000002]\n"
     ]
    }
   ],
   "source": [
    "for i in range(len(b)):\n",
    "    b[i]=(b[i]*9/5)+32\n",
    "print(b)"
   ]
  },
  {
   "cell_type": "code",
   "execution_count": 8,
   "id": "66adf571",
   "metadata": {},
   "outputs": [],
   "source": [
    "z=np.array(b)"
   ]
  },
  {
   "cell_type": "code",
   "execution_count": 9,
   "id": "35dddd81",
   "metadata": {},
   "outputs": [
    {
     "data": {
      "text/plain": [
       "array([ 89.6 ,  92.84,  96.08,  99.32, 102.56, 105.8 , 109.04, 112.28,\n",
       "       115.52, 118.76, 122.  , 125.24, 128.48])"
      ]
     },
     "execution_count": 9,
     "metadata": {},
     "output_type": "execute_result"
    }
   ],
   "source": [
    "z"
   ]
  },
  {
   "cell_type": "code",
   "execution_count": 10,
   "id": "2551667c",
   "metadata": {},
   "outputs": [
    {
     "data": {
      "text/plain": [
       "numpy.ndarray"
      ]
     },
     "execution_count": 10,
     "metadata": {},
     "output_type": "execute_result"
    }
   ],
   "source": [
    "type(z)"
   ]
  },
  {
   "cell_type": "code",
   "execution_count": null,
   "id": "37163861",
   "metadata": {},
   "outputs": [],
   "source": []
  }
 ],
 "metadata": {
  "kernelspec": {
   "display_name": "Python 3 (ipykernel)",
   "language": "python",
   "name": "python3"
  },
  "language_info": {
   "codemirror_mode": {
    "name": "ipython",
    "version": 3
   },
   "file_extension": ".py",
   "mimetype": "text/x-python",
   "name": "python",
   "nbconvert_exporter": "python",
   "pygments_lexer": "ipython3",
   "version": "3.11.1"
  }
 },
 "nbformat": 4,
 "nbformat_minor": 5
}
