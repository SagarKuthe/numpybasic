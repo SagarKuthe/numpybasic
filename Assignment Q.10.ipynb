{
 "cells": [
  {
   "cell_type": "code",
   "execution_count": 30,
   "id": "1e7a4d64",
   "metadata": {},
   "outputs": [],
   "source": [
    "import numpy as np"
   ]
  },
  {
   "cell_type": "code",
   "execution_count": 31,
   "id": "4669b6af",
   "metadata": {},
   "outputs": [],
   "source": [
    "a=np.arange(36,60)"
   ]
  },
  {
   "cell_type": "code",
   "execution_count": 32,
   "id": "4114dd48",
   "metadata": {},
   "outputs": [
    {
     "data": {
      "text/plain": [
       "array([36, 37, 38, 39, 40, 41, 42, 43, 44, 45, 46, 47, 48, 49, 50, 51, 52,\n",
       "       53, 54, 55, 56, 57, 58, 59])"
      ]
     },
     "execution_count": 32,
     "metadata": {},
     "output_type": "execute_result"
    }
   ],
   "source": [
    "a"
   ]
  },
  {
   "cell_type": "code",
   "execution_count": 54,
   "id": "9eaebf83",
   "metadata": {},
   "outputs": [],
   "source": [
    "b=np.arange(45,69)"
   ]
  },
  {
   "cell_type": "code",
   "execution_count": 55,
   "id": "5f1c3ed0",
   "metadata": {},
   "outputs": [
    {
     "data": {
      "text/plain": [
       "array([45, 46, 47, 48, 49, 50, 51, 52, 53, 54, 55, 56, 57, 58, 59, 60, 61,\n",
       "       62, 63, 64, 65, 66, 67, 68])"
      ]
     },
     "execution_count": 55,
     "metadata": {},
     "output_type": "execute_result"
    }
   ],
   "source": [
    "b"
   ]
  },
  {
   "cell_type": "code",
   "execution_count": 56,
   "id": "2ebcfc98",
   "metadata": {},
   "outputs": [],
   "source": [
    "z=list(a)"
   ]
  },
  {
   "cell_type": "code",
   "execution_count": 57,
   "id": "5a86f0b0",
   "metadata": {},
   "outputs": [],
   "source": [
    "z1=list(b)"
   ]
  },
  {
   "cell_type": "code",
   "execution_count": 58,
   "id": "21d29873",
   "metadata": {},
   "outputs": [
    {
     "name": "stdout",
     "output_type": "stream",
     "text": [
      "it is not present in 2nd array\n",
      "it is not present in 2nd array\n",
      "it is not present in 2nd array\n",
      "it is not present in 2nd array\n",
      "it is not present in 2nd array\n",
      "it is not present in 2nd array\n",
      "it is not present in 2nd array\n",
      "it is not present in 2nd array\n",
      "it is not present in 2nd array\n",
      "This number is presnt in 2nd array\n",
      "This number is presnt in 2nd array\n",
      "This number is presnt in 2nd array\n",
      "This number is presnt in 2nd array\n",
      "This number is presnt in 2nd array\n",
      "This number is presnt in 2nd array\n",
      "This number is presnt in 2nd array\n",
      "This number is presnt in 2nd array\n",
      "This number is presnt in 2nd array\n",
      "This number is presnt in 2nd array\n",
      "This number is presnt in 2nd array\n",
      "This number is presnt in 2nd array\n",
      "This number is presnt in 2nd array\n",
      "This number is presnt in 2nd array\n",
      "This number is presnt in 2nd array\n"
     ]
    },
    {
     "ename": "IndexError",
     "evalue": "index 24 is out of bounds for axis 0 with size 24",
     "output_type": "error",
     "traceback": [
      "\u001b[1;31m---------------------------------------------------------------------------\u001b[0m",
      "\u001b[1;31mIndexError\u001b[0m                                Traceback (most recent call last)",
      "Cell \u001b[1;32mIn[58], line 3\u001b[0m\n\u001b[0;32m      1\u001b[0m i\u001b[38;5;241m=\u001b[39m\u001b[38;5;241m0\u001b[39m\n\u001b[0;32m      2\u001b[0m \u001b[38;5;28;01mwhile\u001b[39;00m(i\u001b[38;5;241m<\u001b[39m\u001b[38;5;241m=\u001b[39m\u001b[38;5;28mlen\u001b[39m(a)):\n\u001b[1;32m----> 3\u001b[0m     \u001b[38;5;28;01mif\u001b[39;00m(\u001b[43ma\u001b[49m\u001b[43m[\u001b[49m\u001b[43mi\u001b[49m\u001b[43m]\u001b[49m \u001b[38;5;129;01min\u001b[39;00m b):\n\u001b[0;32m      4\u001b[0m         \u001b[38;5;28mprint\u001b[39m(\u001b[38;5;124m\"\u001b[39m\u001b[38;5;124mThis number is presnt in 2nd array\u001b[39m\u001b[38;5;124m\"\u001b[39m)\n\u001b[0;32m      5\u001b[0m     \u001b[38;5;28;01melse\u001b[39;00m:\n",
      "\u001b[1;31mIndexError\u001b[0m: index 24 is out of bounds for axis 0 with size 24"
     ]
    }
   ],
   "source": [
    "i=0\n",
    "while(i<=len(a)):\n",
    "    if(a[i] in b):\n",
    "        print(\"This number is presnt in 2nd array\")\n",
    "    else:\n",
    "        print(\"it is not present in 2nd array\")\n",
    "    i=i+1"
   ]
  },
  {
   "cell_type": "code",
   "execution_count": null,
   "id": "eaa3845a",
   "metadata": {},
   "outputs": [],
   "source": []
  },
  {
   "cell_type": "code",
   "execution_count": null,
   "id": "2ec9a7aa",
   "metadata": {},
   "outputs": [],
   "source": []
  }
 ],
 "metadata": {
  "kernelspec": {
   "display_name": "Python 3 (ipykernel)",
   "language": "python",
   "name": "python3"
  },
  "language_info": {
   "codemirror_mode": {
    "name": "ipython",
    "version": 3
   },
   "file_extension": ".py",
   "mimetype": "text/x-python",
   "name": "python",
   "nbconvert_exporter": "python",
   "pygments_lexer": "ipython3",
   "version": "3.11.1"
  }
 },
 "nbformat": 4,
 "nbformat_minor": 5
}
